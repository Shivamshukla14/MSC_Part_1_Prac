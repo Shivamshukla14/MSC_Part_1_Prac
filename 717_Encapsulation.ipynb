{
 "cells": [
  {
   "cell_type": "markdown",
   "id": "331db868",
   "metadata": {},
   "source": [
    "## What is Encapsulation?\n",
    "1. Encapsulation in python describes the concept of bindling data and methods witihin a single unit. For eg: When you create a class it means that you are implementing Encapsulation. \n",
    "2. A class is an example of Encapsulation that binds all the data members and methods into a single unit.\n",
    "3. We can hide object's internal representation from outside the function, this is called information hiding. Also, Encapsulation allows us to restrict accessing variable and methods directly and prevent accidental data modification by creating private data members and methods within a class.\n"
   ]
  },
  {
   "cell_type": "markdown",
   "id": "82e5dfd6",
   "metadata": {},
   "source": [
    "# Access Modifiers\n",
    "1. Encapsulation can be achieved by declaring the data members and methods of a class either private or protected. \n",
    "2. But in python we dont have directly access modifiers like public, private and protected. \n",
    "3. We can achieve this by using a single underscore( ' _ ' ) or double underscore( ' __ ' ).\n",
    "4. Accessing modifier limit the accessto the variables and method of the class:<br>\n",
    "<b>a)Public Members: </b>Accessable anywhere from within a class or outside the class<br>\n",
    "<b>b)Private Members: </b>Accessable within the class<br>\n",
    "<b>c)Protected Members: </b>Accessable within the class and sub class"
   ]
  },
  {
   "cell_type": "markdown",
   "id": "b78e4eb0",
   "metadata": {},
   "source": [
    "## Public Member\n"
   ]
  },
  {
   "cell_type": "code",
   "execution_count": 1,
   "id": "f8f8980b",
   "metadata": {},
   "outputs": [
    {
     "name": "stdout",
     "output_type": "stream",
     "text": [
      "Salary:  10000\n"
     ]
    }
   ],
   "source": [
    "class Employee:\n",
    "    def __init__(self,name,salary):\n",
    "        self.name = name\n",
    "        self.salary = salary\n",
    "        \n",
    "emp = Employee('Jessica', 10000)\n",
    "\n",
    "print('Salary: ', emp.salary)"
   ]
  },
  {
   "cell_type": "markdown",
   "id": "3eeb19f5",
   "metadata": {},
   "source": [
    "## Private Member\n",
    "1. We can protect variable in the class by making them private to define the private vehicle add two underscore before variable name.\n",
    "2. Private members are accessable only within the class, and we can't access them directly from class objects. "
   ]
  },
  {
   "cell_type": "code",
   "execution_count": 2,
   "id": "d41f522d",
   "metadata": {},
   "outputs": [
    {
     "ename": "AttributeError",
     "evalue": "'Employee' object has no attribute '__salary'",
     "output_type": "error",
     "traceback": [
      "\u001b[1;31m---------------------------------------------------------------------------\u001b[0m",
      "\u001b[1;31mAttributeError\u001b[0m                            Traceback (most recent call last)",
      "\u001b[1;32m~\\AppData\\Local\\Temp/ipykernel_9748/1394218115.py\u001b[0m in \u001b[0;36m<module>\u001b[1;34m\u001b[0m\n\u001b[0;32m      6\u001b[0m \u001b[0memp\u001b[0m \u001b[1;33m=\u001b[0m \u001b[0mEmployee\u001b[0m\u001b[1;33m(\u001b[0m\u001b[1;34m'Jessica'\u001b[0m\u001b[1;33m,\u001b[0m \u001b[1;36m10000\u001b[0m\u001b[1;33m)\u001b[0m\u001b[1;33m\u001b[0m\u001b[1;33m\u001b[0m\u001b[0m\n\u001b[0;32m      7\u001b[0m \u001b[1;33m\u001b[0m\u001b[0m\n\u001b[1;32m----> 8\u001b[1;33m \u001b[0mprint\u001b[0m\u001b[1;33m(\u001b[0m\u001b[1;34m'Salary: '\u001b[0m\u001b[1;33m,\u001b[0m \u001b[0memp\u001b[0m\u001b[1;33m.\u001b[0m\u001b[0m__salary\u001b[0m\u001b[1;33m)\u001b[0m\u001b[1;33m\u001b[0m\u001b[1;33m\u001b[0m\u001b[0m\n\u001b[0m",
      "\u001b[1;31mAttributeError\u001b[0m: 'Employee' object has no attribute '__salary'"
     ]
    }
   ],
   "source": [
    "class Employee:\n",
    "    def __init__(self,name,salary):\n",
    "        self.name = name\n",
    "        self.__salary = salary\n",
    "        \n",
    "emp = Employee('Jessica', 10000)\n",
    "\n",
    "print('Salary: ', emp.__salary)"
   ]
  },
  {
   "cell_type": "markdown",
   "id": "2ed55a0b",
   "metadata": {},
   "source": [
    "We can access private members from outside of the class using two approaches <br>\n",
    "**1. Create a public method to craete a access private member**"
   ]
  },
  {
   "cell_type": "code",
   "execution_count": 3,
   "id": "87cff77f",
   "metadata": {},
   "outputs": [
    {
     "name": "stdout",
     "output_type": "stream",
     "text": [
      "Name: Jessica  Salary: 10000\n"
     ]
    }
   ],
   "source": [
    "class Employee:\n",
    "    def __init__(self,name,salary):\n",
    "        self.name = name\n",
    "        self.__salary = salary\n",
    "        \n",
    "    def show(self):\n",
    "        print('Name:', self.name, ' Salary:', self.__salary)\n",
    "        \n",
    "emp = Employee('Jessica', 10000)\n",
    "emp.show()"
   ]
  },
  {
   "cell_type": "markdown",
   "id": "4f997647",
   "metadata": {},
   "source": [
    "**2. Use name mangling** <br>\n",
    "The name mangling is created on an identifier by adding one leading under score and two trailing underscore."
   ]
  },
  {
   "cell_type": "code",
   "execution_count": 5,
   "id": "8d087d9b",
   "metadata": {},
   "outputs": [
    {
     "name": "stdout",
     "output_type": "stream",
     "text": [
      "Name: Jessa\n",
      "Salary: 10000\n"
     ]
    }
   ],
   "source": [
    "class Employee:\n",
    "    def __init__(self,name,salary):\n",
    "        self.name = name\n",
    "        self.__salary = salary\n",
    "        \n",
    "emp = Employee('Jessa',10000)\n",
    "\n",
    "print(\"Name:\",emp.name)\n",
    "print(\"Salary:\",emp._Employee__salary)"
   ]
  },
  {
   "cell_type": "markdown",
   "id": "711a45bc",
   "metadata": {},
   "source": [
    "## Protected members\n",
    "1. Protected members are accessable within the class and also availabe to its sub class (child class).\n",
    "2. To define a protected member we can use single underscore before variable name.\n",
    "3. Protected data members are use when you implementing inheritance and wanted to allow data members access to only child class."
   ]
  },
  {
   "cell_type": "code",
   "execution_count": 10,
   "id": "445a2b9a",
   "metadata": {},
   "outputs": [
    {
     "name": "stdout",
     "output_type": "stream",
     "text": [
      "Employee name : Jessa\n",
      "Working on project : NLP\n",
      "Project NLP\n"
     ]
    }
   ],
   "source": [
    "class Company:\n",
    "    def __init__(self):\n",
    "        self._project = \"NLP\"\n",
    "        \n",
    "class Employee(Company):\n",
    "    def __init__(self,name):\n",
    "        self.name = name\n",
    "        Company.__init__(self)\n",
    "        \n",
    "    def show(self):\n",
    "        print(\"Employee name :\",self.name)\n",
    "        print(\"Working on project :\", self._project)\n",
    "        \n",
    "c = Employee(\"Jessa\")\n",
    "c.show()\n",
    "print(\"Project\",c._project)"
   ]
  },
  {
   "cell_type": "markdown",
   "id": "6accd177",
   "metadata": {},
   "source": [
    "## Getters and Setters (HW)"
   ]
  },
  {
   "cell_type": "markdown",
   "id": "2c59311c",
   "metadata": {},
   "source": [
    "# Advantages of Encapsulation\n",
    "**Security**<br>\n",
    "1. Encapsulation provides an object from unauthorized access. \n",
    "2. It allows private and protected access levels to prevent accidental data modification.\n",
    "\n",
    "**Data Hiding**<br>\n",
    "1. The user dosen't know behind the seeen of the class. \n",
    "2. They woukld only be knowing that to modify a data member, call the setter methods. \n",
    "3. To read a data member, call the getter method. These getters and setters method are used  in data hiding.\n",
    "\n",
    "**Simplicity**<br>\n",
    "1. It simplifies the maintainance of the application by keeping classes seperated and preventing them from tightly coupling with each other.\n",
    "\n",
    "**Aesthetics**<br>\n",
    "1. Bundling the data and methods within a class makes code more readable and maintainable."
   ]
  },
  {
   "cell_type": "code",
   "execution_count": null,
   "id": "1756fa74",
   "metadata": {},
   "outputs": [],
   "source": []
  },
  {
   "cell_type": "code",
   "execution_count": null,
   "id": "888ec0a5",
   "metadata": {},
   "outputs": [],
   "source": []
  }
 ],
 "metadata": {
  "kernelspec": {
   "display_name": "Python 3 (ipykernel)",
   "language": "python",
   "name": "python3"
  },
  "language_info": {
   "codemirror_mode": {
    "name": "ipython",
    "version": 3
   },
   "file_extension": ".py",
   "mimetype": "text/x-python",
   "name": "python",
   "nbconvert_exporter": "python",
   "pygments_lexer": "ipython3",
   "version": "3.9.7"
  }
 },
 "nbformat": 4,
 "nbformat_minor": 5
}
