{
 "cells": [
  {
   "cell_type": "markdown",
   "id": "130e956b",
   "metadata": {},
   "source": [
    "# Polymorphism\n",
    "It refers to use of a single type entity(methods, operator) or object to represent the different types in different scenario.\n"
   ]
  },
  {
   "cell_type": "code",
   "execution_count": 1,
   "id": "8e051d9b",
   "metadata": {},
   "outputs": [],
   "source": [
    "class Bird:\n",
    "    def intro(self):\n",
    "        print(\"There are many types of birds\")\n",
    "    def fly(self):\n",
    "        print(\"Most of the birds can fly but some cannot\")\n",
    "        \n",
    "class sparrow(Bird):\n",
    "    def fly(self):\n",
    "        print(\"Sparrow can fly\")\n",
    "        \n",
    "class ostrich(Bird):\n",
    "    def fly(self):\n",
    "        print(\"Ostrich cannot fly\")\n",
    "        \n",
    "obj_bird = Bird()\n",
    "obj_sparrow = sparrow()\n",
    "obj_ostrich = ostrich()\n"
   ]
  },
  {
   "cell_type": "code",
   "execution_count": 2,
   "id": "7194fa2c",
   "metadata": {},
   "outputs": [
    {
     "name": "stdout",
     "output_type": "stream",
     "text": [
      "There are many types of birds\n",
      "Most of the birds can fly but some cannot\n"
     ]
    }
   ],
   "source": [
    "obj_bird.intro()\n",
    "obj_bird.fly()"
   ]
  },
  {
   "cell_type": "code",
   "execution_count": 3,
   "id": "b40d3787",
   "metadata": {},
   "outputs": [
    {
     "name": "stdout",
     "output_type": "stream",
     "text": [
      "There are many types of birds\n",
      "Sparrow can fly\n"
     ]
    }
   ],
   "source": [
    "obj_sparrow.intro()\n",
    "obj_sparrow.fly()"
   ]
  },
  {
   "cell_type": "code",
   "execution_count": 4,
   "id": "8f224751",
   "metadata": {},
   "outputs": [
    {
     "name": "stdout",
     "output_type": "stream",
     "text": [
      "There are many types of birds\n",
      "Ostrich cannot fly\n"
     ]
    }
   ],
   "source": [
    "obj_ostrich.intro()\n",
    "obj_ostrich.fly()"
   ]
  },
  {
   "cell_type": "code",
   "execution_count": 5,
   "id": "c72a3e50",
   "metadata": {},
   "outputs": [],
   "source": [
    "class Cat:\n",
    "    def __init__(self,name,age):\n",
    "        self.name = name\n",
    "        self.age = age\n",
    "    def info(self):\n",
    "        print(\"I am a Cat. My name is {}. I am {} years old\".format(self.name,self.age))\n",
    "    def make_sound(self):\n",
    "        print(\"Meow\")\n",
    "        \n",
    "class Cow:\n",
    "    def __init__(self,name,age):\n",
    "        self.name = name\n",
    "        self.age = age\n",
    "    def info(self):\n",
    "        print(\"I am a Cow. My name is {}. I am {} years old\".format(self.name,self.age))\n",
    "    def make_sound(self):\n",
    "        print(\"Moo\")\n",
    "        \n",
    "cat1 = Cat(\"Kitty\",10)\n",
    "cat2 = Cat(\"Pussy\",15)\n",
    "cow1 = Cow(\"Siddhi\",15)\n",
    "cow2 = Cow(\"Fluffy\",12)\n",
    "\n",
    "\n",
    "        "
   ]
  },
  {
   "cell_type": "code",
   "execution_count": 6,
   "id": "542a4f94",
   "metadata": {},
   "outputs": [
    {
     "name": "stdout",
     "output_type": "stream",
     "text": [
      "I am a Cat. My name is Kitty. I am 10 years old\n",
      "Meow\n",
      "I am a Cat. My name is Pussy. I am 15 years old\n",
      "Meow\n"
     ]
    }
   ],
   "source": [
    "cat1.info()\n",
    "cat1.make_sound()\n",
    "cat2.info()\n",
    "cat2.make_sound()"
   ]
  },
  {
   "cell_type": "code",
   "execution_count": 7,
   "id": "baee351b",
   "metadata": {},
   "outputs": [
    {
     "name": "stdout",
     "output_type": "stream",
     "text": [
      "I am a Cow. My name is Siddhi. I am 15 years old\n",
      "Moo\n",
      "I am a Cow. My name is Fluffy. I am 12 years old\n",
      "Moo\n"
     ]
    }
   ],
   "source": [
    "cow1.info()\n",
    "cow1.make_sound()\n",
    "cow2.info()\n",
    "cow2.make_sound()"
   ]
  },
  {
   "cell_type": "code",
   "execution_count": 8,
   "id": "53d17a3e",
   "metadata": {},
   "outputs": [
    {
     "name": "stdout",
     "output_type": "stream",
     "text": [
      "I am a Cat. My name is Kitty. I am 10 years old\n",
      "Meow\n",
      "I am a Cow. My name is Siddhi. I am 15 years old\n",
      "Moo\n"
     ]
    }
   ],
   "source": [
    "#Using for loop\n",
    "for animal in (cat1, cow1):\n",
    "    animal.info()\n",
    "    animal.make_sound()"
   ]
  },
  {
   "cell_type": "code",
   "execution_count": 9,
   "id": "2ec6f1b9",
   "metadata": {},
   "outputs": [
    {
     "name": "stdout",
     "output_type": "stream",
     "text": [
      "Circle\n",
      "I am two-dimensional shape\n",
      "Squares have each angle equal to 90 degrees.\n",
      "153.93804002589985\n"
     ]
    }
   ],
   "source": [
    "from math import pi\n",
    "\n",
    "class Shape:\n",
    "    def __init__(self,name):\n",
    "        self.name = name\n",
    "    def Area(self):\n",
    "        pass\n",
    "    def Fact(self):\n",
    "        return \"I am two-dimensional shape\"\n",
    "    def __str__(self):\n",
    "        return self.name\n",
    "\n",
    "class Square(Shape):\n",
    "    def __init__(self,length):\n",
    "        super().__init__(\"Square\")\n",
    "        self.length = length\n",
    "    def Area(self):\n",
    "        return self.length**2\n",
    "    def Fact(self):\n",
    "        return \"Squares have each angle equal to 90 degrees.\"    \n",
    "        \n",
    "    \n",
    "class Circle(Shape):\n",
    "    def __init__(self,radius):\n",
    "        super().__init__(\"Circle\")\n",
    "        self.radius = radius\n",
    "    def Area(self):\n",
    "        return pi*self.radius**2\n",
    "    \n",
    "a  = Square(4)\n",
    "b = Circle(7)\n",
    "print(b)\n",
    "print(b.Fact())\n",
    "print(a.Fact())\n",
    "print(b.Area())"
   ]
  },
  {
   "cell_type": "markdown",
   "id": "b2644779",
   "metadata": {},
   "source": [
    "# Method Overloading\n",
    "Methods in python can be called with zero, one or more parameters. This process of calling the same method in different ways is called method overloading. Overloading is a method that can do different functionalities with same name."
   ]
  },
  {
   "cell_type": "code",
   "execution_count": 10,
   "id": "15555553",
   "metadata": {},
   "outputs": [],
   "source": [
    "class VIP:\n",
    "    def Overloading(self,x=None,y=None):\n",
    "        if x==None and y == None:\n",
    "            print(\"Nothing!\")\n",
    "        elif x!=None and y!=None:\n",
    "            print(\"Addition of two numbers\",x+y)\n",
    "        else:\n",
    "            print(\"You have passed only one argument :\",x)"
   ]
  },
  {
   "cell_type": "code",
   "execution_count": 11,
   "id": "b5afd92e",
   "metadata": {},
   "outputs": [
    {
     "name": "stdout",
     "output_type": "stream",
     "text": [
      "Nothing!\n"
     ]
    }
   ],
   "source": [
    "obj = VIP()\n",
    "obj.Overloading()"
   ]
  },
  {
   "cell_type": "markdown",
   "id": "b8d173ff",
   "metadata": {},
   "source": [
    "# Method Overriding\n",
    "Method overriding allow a sub class or child class to provide a specific implementation of a method that is already provided by one of its super classes or parent classes. "
   ]
  },
  {
   "cell_type": "code",
   "execution_count": 12,
   "id": "8d4de476",
   "metadata": {},
   "outputs": [],
   "source": [
    "class Animal:\n",
    "    multicelular = True\n",
    "    eukaryotic = True\n",
    "    \n",
    "    def breathe(self):\n",
    "        print(\"I breathe oxygen\")\n",
    "    \n",
    "    def feed(self):\n",
    "        print(\"I eat food\")\n",
    "        \n",
    "class Herbivorous(Animal):\n",
    "    def feed(self):\n",
    "        print(\"I eat only plants. I am vegetarian.\")\n",
    "        \n",
    "class Omnivorous(Herbivorous):\n",
    "    def feed(self):\n",
    "        print(\"I eat both\")\n",
    "        \n",
    "animal1 = Animal()\n",
    "animal2 = Herbivorous()\n",
    "animal3 = Omnivorous()"
   ]
  },
  {
   "cell_type": "code",
   "execution_count": 13,
   "id": "d3a1753c",
   "metadata": {},
   "outputs": [
    {
     "name": "stdout",
     "output_type": "stream",
     "text": [
      "I eat food\n",
      "I eat only plants. I am vegetarian.\n",
      "I eat both\n"
     ]
    }
   ],
   "source": [
    "animal1.feed()\n",
    "animal2.feed()\n",
    "animal3.feed()"
   ]
  },
  {
   "cell_type": "markdown",
   "id": "2569e61d",
   "metadata": {},
   "source": [
    "# Difference between Overloading and Overriding\n",
    "### Overloading\n",
    "1. Method with the same name but different number of arguments.\n",
    "2. Inheritance is optional \n",
    "3. Take place in method within the class \n",
    "4. Can be done within a class.\n",
    "5. Binding of overloaded method is done at compile time, hence it is a part of compile time polymorphism.\n",
    "6. Static method can be overloaded.\n",
    "7. Increase core reusability.\n",
    "8. Relates with polymorphism.\n",
    "\n",
    "### Overriding\n",
    "1. method with same name and same number of arguments.\n",
    "2. inheritance is required/must.\n",
    "3. Methods resides in different classes.\n",
    "4. Atleast two classes are required.\n",
    "5. Binding of overriden methods is done at runtime, hence it is part of runtime polymorphism.\n",
    "6. Static methods cannot be overriden.\n",
    "7. Used in implementation of specific scenarios.\n",
    "8. It related with inheritance."
   ]
  },
  {
   "cell_type": "code",
   "execution_count": null,
   "id": "86c66c3f",
   "metadata": {},
   "outputs": [],
   "source": []
  },
  {
   "cell_type": "code",
   "execution_count": null,
   "id": "613b28a7",
   "metadata": {},
   "outputs": [],
   "source": []
  }
 ],
 "metadata": {
  "kernelspec": {
   "display_name": "Python 3 (ipykernel)",
   "language": "python",
   "name": "python3"
  },
  "language_info": {
   "codemirror_mode": {
    "name": "ipython",
    "version": 3
   },
   "file_extension": ".py",
   "mimetype": "text/x-python",
   "name": "python",
   "nbconvert_exporter": "python",
   "pygments_lexer": "ipython3",
   "version": "3.9.7"
  }
 },
 "nbformat": 4,
 "nbformat_minor": 5
}
