{
 "cells": [
  {
   "cell_type": "markdown",
   "id": "0de2c8f1",
   "metadata": {},
   "source": [
    "# Data Abstraction\n",
    "1. Hiding the implementation details from the user.\n",
    "2. Abstraction is a really powerful concept of oops for making complex task and quotes simpler to use.\n",
    "3. It reduces the complexity for the user by making relevent part accesable and usable leaving the unnecessary code hidden.\n",
    "4. There are many times the programmer dosen't want to out sensitive part of our code. This is where Data Abstraction can be very functional.\n",
    "5. Data Abstraction in python can be achieved through by creating abstract classes and inheriting them later."
   ]
  },
  {
   "cell_type": "markdown",
   "id": "6e51c3b1",
   "metadata": {},
   "source": [
    "# Abstract Class\n",
    "1. Abstract class cannot be instantiated directly. This means that we cannot create object of an abstract class.\n",
    "2. Abstract class is an interface. Interface loop enable a class to inheriot data and function from a base class by extending it in python we use the 'NotImplementedError' to restrict the instantiation of a class. \n",
    "3. Any class having this error inside the method defination cannot be instantiated. \n"
   ]
  },
  {
   "cell_type": "code",
   "execution_count": 3,
   "id": "e1134393",
   "metadata": {},
   "outputs": [],
   "source": [
    "from abc import ABC, abstractclassmethod"
   ]
  },
  {
   "cell_type": "code",
   "execution_count": 6,
   "id": "a075caba",
   "metadata": {},
   "outputs": [
    {
     "ename": "TypeError",
     "evalue": "Can't instantiate abstract class joy with abstract method wonderful",
     "output_type": "error",
     "traceback": [
      "\u001b[1;31m---------------------------------------------------------------------------\u001b[0m",
      "\u001b[1;31mTypeError\u001b[0m                                 Traceback (most recent call last)",
      "\u001b[1;32m~\\AppData\\Local\\Temp/ipykernel_13744/3321418260.py\u001b[0m in \u001b[0;36m<module>\u001b[1;34m\u001b[0m\n\u001b[0;32m      7\u001b[0m         \u001b[0mprint\u001b[0m\u001b[1;33m(\u001b[0m\u001b[1;34m\"joy is funny\"\u001b[0m\u001b[1;33m)\u001b[0m\u001b[1;33m\u001b[0m\u001b[1;33m\u001b[0m\u001b[0m\n\u001b[0;32m      8\u001b[0m \u001b[1;33m\u001b[0m\u001b[0m\n\u001b[1;32m----> 9\u001b[1;33m \u001b[0mobj_1\u001b[0m \u001b[1;33m=\u001b[0m \u001b[0mjoy\u001b[0m\u001b[1;33m(\u001b[0m\u001b[1;33m)\u001b[0m\u001b[1;33m\u001b[0m\u001b[1;33m\u001b[0m\u001b[0m\n\u001b[0m\u001b[0;32m     10\u001b[0m \u001b[0mobj_1\u001b[0m\u001b[1;33m.\u001b[0m\u001b[0mfun\u001b[0m\u001b[1;33m(\u001b[0m\u001b[1;33m)\u001b[0m\u001b[1;33m\u001b[0m\u001b[1;33m\u001b[0m\u001b[0m\n",
      "\u001b[1;31mTypeError\u001b[0m: Can't instantiate abstract class joy with abstract method wonderful"
     ]
    }
   ],
   "source": [
    "class joy(ABC):\n",
    "    @abstractclassmethod\n",
    "    def wonderful(self):\n",
    "        print(\"Joy is wonderful\")\n",
    "\n",
    "    def fun(self):\n",
    "        print(\"joy is funny\")\n",
    "        \n",
    "obj_1 = joy()\n",
    "obj_1.fun()\n"
   ]
  },
  {
   "cell_type": "code",
   "execution_count": 7,
   "id": "a178bd80",
   "metadata": {},
   "outputs": [
    {
     "name": "stdout",
     "output_type": "stream",
     "text": [
      "I can walk and run\n",
      "I can crawl\n",
      "I can bark\n",
      "I can roar\n"
     ]
    }
   ],
   "source": [
    "from abc import ABC, abstractmethod\n",
    "\n",
    "class Animal(ABC):\n",
    "    def move(self):\n",
    "        pass\n",
    "\n",
    "class Human(Animal):\n",
    "    def move(self):\n",
    "        print(\"I can walk and run\")\n",
    "\n",
    "class Snake(Animal):\n",
    "    def move(self):\n",
    "        print(\"I can crawl\")\n",
    "\n",
    "class Dog(Animal):\n",
    "    def move(self):\n",
    "        print(\"I can bark\")\n",
    "\n",
    "class Lion(Animal):\n",
    "    def move(self):\n",
    "        print(\"I can roar\")\n",
    "\n",
    "         \n",
    "# Driver code\n",
    "R = Human()\n",
    "R.move()\n",
    " \n",
    "K = Snake()\n",
    "K.move()\n",
    " \n",
    "R = Dog()\n",
    "R.move()\n",
    " \n",
    "K = Lion()\n",
    "K.move()"
   ]
  },
  {
   "cell_type": "code",
   "execution_count": null,
   "id": "8f23e090",
   "metadata": {},
   "outputs": [],
   "source": []
  }
 ],
 "metadata": {
  "kernelspec": {
   "display_name": "Python 3 (ipykernel)",
   "language": "python",
   "name": "python3"
  },
  "language_info": {
   "codemirror_mode": {
    "name": "ipython",
    "version": 3
   },
   "file_extension": ".py",
   "mimetype": "text/x-python",
   "name": "python",
   "nbconvert_exporter": "python",
   "pygments_lexer": "ipython3",
   "version": "3.9.7"
  }
 },
 "nbformat": 4,
 "nbformat_minor": 5
}
